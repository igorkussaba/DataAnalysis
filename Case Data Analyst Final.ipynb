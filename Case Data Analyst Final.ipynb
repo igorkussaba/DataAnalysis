{
 "cells": [
  {
   "cell_type": "code",
   "execution_count": 0,
   "metadata": {
    "application/vnd.databricks.v1+cell": {
     "cellMetadata": {
      "byteLimit": 2048000,
      "rowLimit": 10000
     },
     "inputWidgets": {},
     "nuid": "9c1b3c0a-fb30-4023-8713-6b15ee090eea",
     "showTitle": false,
     "tableResultSettingsMap": {},
     "title": ""
    }
   },
   "outputs": [],
   "source": [
    "# importar as bibliotecas de trabalho\n",
    "\n",
    "\n",
    "from pyspark.sql.functions import *\n",
    "from pyspark.sql.functions import to_date, expr\n",
    "from pyspark.sql.functions import col, sum\n",
    "from pyspark.sql import functions as F\n",
    "import numpy as np\n",
    "import pandas as pd\n",
    "import random\n",
    "from itertools import combinations\n"
   ]
  },
  {
   "cell_type": "markdown",
   "metadata": {
    "application/vnd.databricks.v1+cell": {
     "cellMetadata": {
      "byteLimit": 2048000,
      "rowLimit": 10000
     },
     "inputWidgets": {},
     "nuid": "56095e84-ee9c-485c-bb6f-10985a094c78",
     "showTitle": false,
     "tableResultSettingsMap": {},
     "title": ""
    }
   },
   "source": [
    "# Trazendo as tabelas para o notebook"
   ]
  },
  {
   "cell_type": "code",
   "execution_count": 0,
   "metadata": {
    "application/vnd.databricks.v1+cell": {
     "cellMetadata": {
      "byteLimit": 2048000,
      "rowLimit": 10000
     },
     "inputWidgets": {},
     "nuid": "65aec94a-71b0-47d8-9298-7906dd623d8c",
     "showTitle": false,
     "tableResultSettingsMap": {},
     "title": ""
    }
   },
   "outputs": [],
   "source": [
    "\n",
    "\n",
    "profile = (\n",
    "    spark.read.json(\"profile.json\")\n",
    "    .withColumnRenamed(\"id\", \"account_id_profile\")\n",
    "    .withColumn(\n",
    "        \"registered_on\", to_date(expr(\"cast(registered_on as string)\"), \"yyyyMMdd\")\n",
    "    )\n",
    ")\n",
    "\n",
    "offers = spark.read.json(\n",
    "    \"offers.json\"\n",
    ").withColumnRenamed(\"id\", \"offer_id\")\n",
    "\n",
    "transaction = spark.read.json(\n",
    " # Definir o caminho dos arquivos\n",
    "json_files = [\n",
    "'transactions_split_part_1.json',\n",
    "'transactions_split_part_2.json',\n",
    "'transactions_split_part_3.json',\n",
    "'transactions_split_part_4.json',\n",
    "'transactions_split_part_5.json'\n",
    "]\n",
\n",
"# Ler e unir os arquivos JSON em um único DataFrame\n",
"dataframes = [spark.read.json(file) for file in json_files]\n",
"combined_df = dataframes[0]\n",
\n",
"for df in dataframes[1:]:\n",
   " combined_df = combined_df.union(df)\n",
\n",
    ")\n",
    "\n"
   ]
  },
  {
   "cell_type": "markdown",
   "metadata": {
    "application/vnd.databricks.v1+cell": {
     "cellMetadata": {
      "byteLimit": 2048000,
      "rowLimit": 10000
     },
     "inputWidgets": {},
     "nuid": "f072139d-ee1c-4d34-b728-13935663ce57",
     "showTitle": false,
     "tableResultSettingsMap": {},
     "title": ""
    }
   },
   "source": [
    "### Análise Descritiva dos dados"
   ]
  },
  {
   "cell_type": "markdown",
   "metadata": {
    "application/vnd.databricks.v1+cell": {
     "cellMetadata": {
      "byteLimit": 2048000,
      "rowLimit": 10000
     },
     "inputWidgets": {},
     "nuid": "88aba428-958c-47ea-a685-a13fb9c520b0",
     "showTitle": false,
     "tableResultSettingsMap": {},
     "title": ""
    }
   },
   "source": [
    "- Quantos dados temos? Linhas e colunas\n",
    "- Quais são as colunas numéricas?\n",
    "- Temos duplicados na nossa base? Se tivermos, retire-os\n",
    "- Temos dados nulos nessa base? Será que eles indicam algo? O que fazer com eles?\n",
    "- Qual é a média, mediana, 25 percentil, 75 percentil, mínimo e máximo de cada uma das colunas numéricas?"
   ]
  },
  {
   "cell_type": "markdown",
   "metadata": {
    "application/vnd.databricks.v1+cell": {
     "cellMetadata": {
      "byteLimit": 2048000,
      "rowLimit": 10000
     },
     "inputWidgets": {},
     "nuid": "115c2f20-721e-4d09-9f89-118004c65647",
     "showTitle": false,
     "tableResultSettingsMap": {},
     "title": ""
    }
   },
   "source": [
    "### Profile - Customers"
   ]
  },
  {
   "cell_type": "code",
   "execution_count": 0,
   "metadata": {
    "application/vnd.databricks.v1+cell": {
     "cellMetadata": {
      "byteLimit": 2048000,
      "rowLimit": 10000
     },
     "inputWidgets": {},
     "nuid": "643d2275-dbdc-4ea3-aa40-43d408d5613e",
     "showTitle": false,
     "tableResultSettingsMap": {},
     "title": ""
    }
   },
   "outputs": [
    {
     "output_type": "display_data",
     "data": {
      "text/plain": [
       "(17000, 5)"
      ]
     },
     "metadata": {},
     "output_type": "display_data"
    }
   ],
   "source": [
    "num_rows = profile.count()\n",
    "num_columns = len(profile.columns)\n",
    "shape_profile = (num_rows, num_columns)\n",
    "display(shape_profile)"
   ]
  },
  {
   "cell_type": "code",
   "execution_count": 0,
   "metadata": {
    "application/vnd.databricks.v1+cell": {
     "cellMetadata": {
      "byteLimit": 2048000,
      "rowLimit": 10000
     },
     "inputWidgets": {},
     "nuid": "e38e5bd5-2493-4bca-868f-df99e89adffa",
     "showTitle": false,
     "tableResultSettingsMap": {},
     "title": ""
    }
   },
   "outputs": [
    {
     "output_type": "stream",
     "name": "stdout",
     "output_type": "stream",
     "text": [
      "root\n |-- age: long (nullable = true)\n |-- credit_card_limit: double (nullable = true)\n |-- gender: string (nullable = true)\n |-- account_id_profile: string (nullable = true)\n |-- registered_on: date (nullable = true)\n\n"
     ]
    }
   ],
   "source": [
    "profile.printSchema()"
   ]
  },
  {
   "cell_type": "code",
   "execution_count": 0,
   "metadata": {
    "application/vnd.databricks.v1+cell": {
     "cellMetadata": {
      "byteLimit": 2048000,
      "rowLimit": 10000
     },
     "inputWidgets": {},
     "nuid": "888c6996-094f-470e-a6ba-48ea8317ac83",
     "showTitle": false,
     "tableResultSettingsMap": {},
     "title": ""
    }
   },
   "outputs": [
    {
     "output_type": "display_data",
     "data": {
      "text/html": [
       "<style scoped>\n",
       "  .table-result-container {\n",
       "    max-height: 300px;\n",
       "    overflow: auto;\n",
       "  }\n",
       "  table, th, td {\n",
       "    border: 1px solid black;\n",
       "    border-collapse: collapse;\n",
       "  }\n",
       "  th, td {\n",
       "    padding: 5px;\n",
       "  }\n",
       "  th {\n",
       "    text-align: left;\n",
       "  }\n",
       "</style><div class='table-result-container'><table class='table-result'><thead style='background-color: white'><tr><th>summary</th><th>age</th></tr></thead><tbody><tr><td>count</td><td>17000</td></tr><tr><td>mean</td><td>62.53141176470588</td></tr><tr><td>stddev</td><td>26.738579945767256</td></tr><tr><td>min</td><td>18</td></tr><tr><td>max</td><td>118</td></tr></tbody></table></div>"
      ]
     },
     "metadata": {
      "application/vnd.databricks.v1+output": {
       "addedWidgets": {},
       "aggData": [],
       "aggError": "",
       "aggOverflow": false,
       "aggSchema": [],
       "aggSeriesLimitReached": false,
       "aggType": "",
       "arguments": {},
       "columnCustomDisplayInfos": {},
       "data": [
        [
         "count",
         "17000"
        ],
        [
         "mean",
         "62.53141176470588"
        ],
        [
         "stddev",
         "26.738579945767256"
        ],
        [
         "min",
         "18"
        ],
        [
         "max",
         "118"
        ]
       ],
       "datasetInfos": [],
       "dbfsResultPath": null,
       "isJsonSchema": true,
       "metadata": {},
       "overflow": false,
       "plotOptions": {
        "customPlotOptions": {},
        "displayType": "table",
        "pivotAggregation": null,
        "pivotColumns": null,
        "xColumns": null,
        "yColumns": null
       },
       "removedWidgets": [],
       "schema": [
        {
         "metadata": "{}",
         "name": "summary",
         "type": "\"string\""
        },
        {
         "metadata": "{}",
         "name": "age",
         "type": "\"string\""
        }
       ],
       "type": "table"
      }
     },
     "output_type": "display_data"
    }
   ],
   "source": [
    "age_analyzed = profile.select(\"age\").describe()\n",
    "\n",
    "display(age_analyzed)"
   ]
  },
  {
   "cell_type": "markdown",
   "metadata": {
    "application/vnd.databricks.v1+cell": {
     "cellMetadata": {
      "byteLimit": 2048000,
      "rowLimit": 10000
     },
     "inputWidgets": {},
     "nuid": "6ba21316-9ba1-4b3e-a814-a98e3d60ecd6",
     "showTitle": false,
     "tableResultSettingsMap": {},
     "title": ""
    }
   },
   "source": [
    "Nulos"
   ]
  },
  {
   "cell_type": "code",
   "execution_count": 0,
   "metadata": {
    "application/vnd.databricks.v1+cell": {
     "cellMetadata": {
      "byteLimit": 2048000,
      "rowLimit": 10000
     },
     "inputWidgets": {},
     "nuid": "6fe97eb1-5912-4796-bfce-e78bcc937f05",
     "showTitle": false,
     "tableResultSettingsMap": {},
     "title": ""
    }
   },
   "outputs": [
    {
     "output_type": "display_data",
     "data": {
      "text/html": [
       "<style scoped>\n",
       "  .table-result-container {\n",
       "    max-height: 300px;\n",
       "    overflow: auto;\n",
       "  }\n",
       "  table, th, td {\n",
       "    border: 1px solid black;\n",
       "    border-collapse: collapse;\n",
       "  }\n",
       "  th, td {\n",
       "    padding: 5px;\n",
       "  }\n",
       "  th {\n",
       "    text-align: left;\n",
       "  }\n",
       "</style><div class='table-result-container'><table class='table-result'><thead style='background-color: white'><tr><th>age</th><th>credit_card_limit</th><th>gender</th><th>account_id_profile</th><th>registered_on</th></tr></thead><tbody><tr><td>0</td><td>2175</td><td>2175</td><td>0</td><td>0</td></tr></tbody></table></div>"
      ]
     },
     "metadata": {
      "application/vnd.databricks.v1+output": {
       "addedWidgets": {},
       "aggData": [],
       "aggError": "",
       "aggOverflow": false,
       "aggSchema": [],
       "aggSeriesLimitReached": false,
       "aggType": "",
       "arguments": {},
       "columnCustomDisplayInfos": {},
       "data": [
        [
         0,
         2175,
         2175,
         0,
         0
        ]
       ],
       "datasetInfos": [],
       "dbfsResultPath": null,
       "isJsonSchema": true,
       "metadata": {},
       "overflow": false,
       "plotOptions": {
        "customPlotOptions": {},
        "displayType": "table",
        "pivotAggregation": null,
        "pivotColumns": null,
        "xColumns": null,
        "yColumns": null
       },
       "removedWidgets": [],
       "schema": [
        {
         "metadata": "{}",
         "name": "age",
         "type": "\"long\""
        },
        {
         "metadata": "{}",
         "name": "credit_card_limit",
         "type": "\"long\""
        },
        {
         "metadata": "{}",
         "name": "gender",
         "type": "\"long\""
        },
        {
         "metadata": "{}",
         "name": "account_id_profile",
         "type": "\"long\""
        },
        {
         "metadata": "{}",
         "name": "registered_on",
         "type": "\"long\""
        }
       ],
       "type": "table"
      }
     },
     "output_type": "display_data"
    }
   ],
   "source": [
    "\n",
    "\n",
    "\n",
    "valores_nulos_por_coluna_profile = profile.agg(\n",
    "    *[sum(col(c).isNull().cast(\"int\")).alias(c) for c in profile.columns]\n",
    ")\n",
    "\n",
    "display(valores_nulos_por_coluna_profile)"
   ]
  },
  {
   "cell_type": "markdown",
   "metadata": {
    "application/vnd.databricks.v1+cell": {
     "cellMetadata": {
      "byteLimit": 2048000,
      "rowLimit": 10000
     },
     "inputWidgets": {},
     "nuid": "cdf2f2c7-347b-4e71-922a-b3e83497a264",
     "showTitle": false,
     "tableResultSettingsMap": {},
     "title": ""
    },
    "jupyter": {
     "outputs_hidden": true
    }
   },
   "source": [
    "Visto que temos valores nulo vamos decidir, vamos remover-los da tabela"
   ]
  },
  {
   "cell_type": "code",
   "execution_count": 0,
   "metadata": {
    "application/vnd.databricks.v1+cell": {
     "cellMetadata": {
      "byteLimit": 2048000,
      "rowLimit": 10000
     },
     "inputWidgets": {},
     "nuid": "ac13720b-0876-4c39-b26f-6eadd017d419",
     "showTitle": false,
     "tableResultSettingsMap": {},
     "title": ""
    }
   },
   "outputs": [],
   "source": [
    "#remoção dos nulos\n",
    "profile_filtered = profile.filter(\n",
    "    (profile.gender.isNotNull()) & (profile.credit_card_limit.isNotNull()))"
   ]
  },
  {
   "cell_type": "code",
   "execution_count": 0,
   "metadata": {
    "application/vnd.databricks.v1+cell": {
     "cellMetadata": {
      "byteLimit": 2048000,
      "rowLimit": 10000
     },
     "inputWidgets": {},
     "nuid": "dec83049-ad95-4503-b630-0c43d46b9aa0",
     "showTitle": false,
     "tableResultSettingsMap": {},
     "title": ""
    }
   },
   "outputs": [
    {
     "output_type": "display_data",
     "data": {
      "text/html": [
       "<style scoped>\n",
       "  .table-result-container {\n",
       "    max-height: 300px;\n",
       "    overflow: auto;\n",
       "  }\n",
       "  table, th, td {\n",
       "    border: 1px solid black;\n",
       "    border-collapse: collapse;\n",
       "  }\n",
       "  th, td {\n",
       "    padding: 5px;\n",
       "  }\n",
       "  th {\n",
       "    text-align: left;\n",
       "  }\n",
       "</style><div class='table-result-container'><table class='table-result'><thead style='background-color: white'><tr><th>summary</th><th>age</th></tr></thead><tbody><tr><td>count</td><td>14825</td></tr><tr><td>mean</td><td>54.39352445193929</td></tr><tr><td>stddev</td><td>17.383705365855015</td></tr><tr><td>min</td><td>18</td></tr><tr><td>max</td><td>101</td></tr></tbody></table></div>"
      ]
     },
     "metadata": {
      "application/vnd.databricks.v1+output": {
       "addedWidgets": {},
       "aggData": [],
       "aggError": "",
       "aggOverflow": false,
       "aggSchema": [],
       "aggSeriesLimitReached": false,
       "aggType": "",
       "arguments": {},
       "columnCustomDisplayInfos": {},
       "data": [
        [
         "count",
         "14825"
        ],
        [
         "mean",
         "54.39352445193929"
        ],
        [
         "stddev",
         "17.383705365855015"
        ],
        [
         "min",
         "18"
        ],
        [
         "max",
         "101"
        ]
       ],
       "datasetInfos": [],
       "dbfsResultPath": null,
       "isJsonSchema": true,
       "metadata": {},
       "overflow": false,
       "plotOptions": {
        "customPlotOptions": {},
        "displayType": "table",
        "pivotAggregation": null,
        "pivotColumns": null,
        "xColumns": null,
        "yColumns": null
       },
       "removedWidgets": [],
       "schema": [
        {
         "metadata": "{}",
         "name": "summary",
         "type": "\"string\""
        },
        {
         "metadata": "{}",
         "name": "age",
         "type": "\"string\""
        }
       ],
       "type": "table"
      }
     },
     "output_type": "display_data"
    }
   ],
   "source": [
    "#análise após remoção dos nulos\n",
    "age_analyzed_pos = profile_filtered.select(\"age\").describe()\n",
    "\n",
    "display(age_analyzed_pos)"
   ]
  },
  {
   "cell_type": "code",
   "execution_count": 0,
   "metadata": {
    "application/vnd.databricks.v1+cell": {
     "cellMetadata": {
      "byteLimit": 2048000,
      "rowLimit": 10000
     },
     "inputWidgets": {},
     "nuid": "a2b43a21-f184-4493-a59f-3ff16314e4f0",
     "showTitle": false,
     "tableResultSettingsMap": {},
     "title": ""
    }
   },
   "outputs": [
    {
     "output_type": "display_data",
     "data": {
      "text/html": [
       "<style scoped>\n",
       "  .table-result-container {\n",
       "    max-height: 300px;\n",
       "    overflow: auto;\n",
       "  }\n",
       "  table, th, td {\n",
       "    border: 1px solid black;\n",
       "    border-collapse: collapse;\n",
       "  }\n",
       "  th, td {\n",
       "    padding: 5px;\n",
       "  }\n",
       "  th {\n",
       "    text-align: left;\n",
       "  }\n",
       "</style><div class='table-result-container'><table class='table-result'><thead style='background-color: white'><tr><th>summary</th><th>credit_card_limit</th></tr></thead><tbody><tr><td>count</td><td>14825</td></tr><tr><td>mean</td><td>65404.9915682968</td></tr><tr><td>stddev</td><td>21598.299410229436</td></tr><tr><td>min</td><td>30000.0</td></tr><tr><td>max</td><td>120000.0</td></tr></tbody></table></div>"
      ]
     },
     "metadata": {
      "application/vnd.databricks.v1+output": {
       "addedWidgets": {},
       "aggData": [],
       "aggError": "",
       "aggOverflow": false,
       "aggSchema": [],
       "aggSeriesLimitReached": false,
       "aggType": "",
       "arguments": {},
       "columnCustomDisplayInfos": {},
       "data": [
        [
         "count",
         "14825"
        ],
        [
         "mean",
         "65404.9915682968"
        ],
        [
         "stddev",
         "21598.299410229436"
        ],
        [
         "min",
         "30000.0"
        ],
        [
         "max",
         "120000.0"
        ]
       ],
       "datasetInfos": [],
       "dbfsResultPath": null,
       "isJsonSchema": true,
       "metadata": {},
       "overflow": false,
       "plotOptions": {
        "customPlotOptions": {},
        "displayType": "table",
        "pivotAggregation": null,
        "pivotColumns": null,
        "xColumns": null,
        "yColumns": null
       },
       "removedWidgets": [],
       "schema": [
        {
         "metadata": "{}",
         "name": "summary",
         "type": "\"string\""
        },
        {
         "metadata": "{}",
         "name": "credit_card_limit",
         "type": "\"string\""
        }
       ],
       "type": "table"
      }
     },
     "output_type": "display_data"
    }
   ],
   "source": [
    "credits_analyzed = profile_filtered.select(\"credit_card_limit\").describe()\n",
    "\n",
    "display(credits_analyzed)"
   ]
  },
  {
   "cell_type": "markdown",
   "metadata": {
    "application/vnd.databricks.v1+cell": {
     "cellMetadata": {
      "byteLimit": 2048000,
      "rowLimit": 10000
     },
     "inputWidgets": {},
     "nuid": "ce23a576-a5d3-473b-a8ff-f453d44b3a61",
     "showTitle": false,
     "tableResultSettingsMap": {},
     "title": ""
    }
   },
   "source": [
    "### Offers"
   ]
  },
  {
   "cell_type": "code",
   "execution_count": 0,
   "metadata": {
    "application/vnd.databricks.v1+cell": {
     "cellMetadata": {
      "byteLimit": 2048000,
      "rowLimit": 10000
     },
     "inputWidgets": {},
     "nuid": "7add97db-3b88-441e-95b6-57c9a3e74f89",
     "showTitle": false,
     "tableResultSettingsMap": {},
     "title": ""
    }
   },
   "outputs": [
    {
     "output_type": "display_data",
     "data": {
      "text/plain": [
       "(10, 6)"
      ]
     },
     "metadata": {},
     "output_type": "display_data"
    }
   ],
   "source": [
    "num_rows = offers.count()\n",
    "num_columns = len(offers.columns)\n",
    "shape_offers = (num_rows, num_columns)\n",
    "display(shape_offers)"
   ]
  },
  {
   "cell_type": "code",
   "execution_count": 0,
   "metadata": {
    "application/vnd.databricks.v1+cell": {
     "cellMetadata": {
      "byteLimit": 2048000,
      "rowLimit": 10000
     },
     "inputWidgets": {},
     "nuid": "b544176a-58e1-46af-bfe3-aedfb1f88e8f",
     "showTitle": false,
     "tableResultSettingsMap": {},
     "title": ""
    }
   },
   "outputs": [
    {
     "output_type": "stream",
     "name": "stdout",
     "output_type": "stream",
     "text": [
      "root\n |-- channels: array (nullable = true)\n |    |-- element: string (containsNull = true)\n |-- discount_value: long (nullable = true)\n |-- duration: double (nullable = true)\n |-- offer_id: string (nullable = true)\n |-- min_value: long (nullable = true)\n |-- offer_type: string (nullable = true)\n\n"
     ]
    }
   ],
   "source": [
    "offers.printSchema()"
   ]
  },
  {
   "cell_type": "code",
   "execution_count": 0,
   "metadata": {
    "application/vnd.databricks.v1+cell": {
     "cellMetadata": {
      "byteLimit": 2048000,
      "rowLimit": 10000
     },
     "inputWidgets": {},
     "nuid": "8cb41e14-75cb-45f2-8f26-b9f7af96608b",
     "showTitle": false,
     "tableResultSettingsMap": {},
     "title": ""
    }
   },
   "outputs": [
    {
     "output_type": "display_data",
     "data": {
      "text/html": [
       "<style scoped>\n",
       "  .table-result-container {\n",
       "    max-height: 300px;\n",
       "    overflow: auto;\n",
       "  }\n",
       "  table, th, td {\n",
       "    border: 1px solid black;\n",
       "    border-collapse: collapse;\n",
       "  }\n",
       "  th, td {\n",
       "    padding: 5px;\n",
       "  }\n",
       "  th {\n",
       "    text-align: left;\n",
       "  }\n",
       "</style><div class='table-result-container'><table class='table-result'><thead style='background-color: white'><tr><th>channels</th><th>discount_value</th><th>duration</th><th>offer_id</th><th>min_value</th><th>offer_type</th></tr></thead><tbody><tr><td>0</td><td>0</td><td>0</td><td>0</td><td>0</td><td>0</td></tr></tbody></table></div>"
      ]
     },
     "metadata": {
      "application/vnd.databricks.v1+output": {
       "addedWidgets": {},
       "aggData": [],
       "aggError": "",
       "aggOverflow": false,
       "aggSchema": [],
       "aggSeriesLimitReached": false,
       "aggType": "",
       "arguments": {},
       "columnCustomDisplayInfos": {},
       "data": [
        [
         0,
         0,
         0,
         0,
         0,
         0
        ]
       ],
       "datasetInfos": [],
       "dbfsResultPath": null,
       "isJsonSchema": true,
       "metadata": {},
       "overflow": false,
       "plotOptions": {
        "customPlotOptions": {},
        "displayType": "table",
        "pivotAggregation": null,
        "pivotColumns": null,
        "xColumns": null,
        "yColumns": null
       },
       "removedWidgets": [],
       "schema": [
        {
         "metadata": "{}",
         "name": "channels",
         "type": "\"long\""
        },
        {
         "metadata": "{}",
         "name": "discount_value",
         "type": "\"long\""
        },
        {
         "metadata": "{}",
         "name": "duration",
         "type": "\"long\""
        },
        {
         "metadata": "{}",
         "name": "offer_id",
         "type": "\"long\""
        },
        {
         "metadata": "{}",
         "name": "min_value",
         "type": "\"long\""
        },
        {
         "metadata": "{}",
         "name": "offer_type",
         "type": "\"long\""
        }
       ],
       "type": "table"
      }
     },
     "output_type": "display_data"
    }
   ],
   "source": [
    "\n",
    "valores_nulos_por_coluna_offers = offers.agg(\n",
    "    *[sum(col(c).isNull().cast(\"int\")).alias(c) for c in offers.columns]\n",
    ")\n",
    "\n",
    "display(valores_nulos_por_coluna_offers)"
   ]
  },
  {
   "cell_type": "markdown",
   "metadata": {
    "application/vnd.databricks.v1+cell": {
     "cellMetadata": {
      "byteLimit": 2048000,
      "rowLimit": 10000
     },
     "inputWidgets": {},
     "nuid": "ae1d33fe-48c3-4760-9e38-5fc9e61cf624",
     "showTitle": false,
     "tableResultSettingsMap": {},
     "title": ""
    }
   },
   "source": [
    "### Transactions\n"
   ]
  },
  {
   "cell_type": "code",
   "execution_count": 0,
   "metadata": {
    "application/vnd.databricks.v1+cell": {
     "cellMetadata": {
      "byteLimit": 2048000,
      "rowLimit": 10000
     },
     "inputWidgets": {},
     "nuid": "a4a194b4-06d1-40c0-8ea2-0d274c5aeaa8",
     "showTitle": false,
     "tableResultSettingsMap": {},
     "title": ""
    }
   },
   "outputs": [
    {
     "output_type": "display_data",
     "data": {
      "text/plain": [
       "(306534, 4)"
      ]
     },
     "metadata": {},
     "output_type": "display_data"
    }
   ],
   "source": [
    "num_rows = transaction.count()\n",
    "num_columns = len(transaction.columns)\n",
    "shape_transaction = (num_rows, num_columns)\n",
    "display(shape_transaction)"
   ]
  },
  {
   "cell_type": "code",
   "execution_count": 0,
   "metadata": {
    "application/vnd.databricks.v1+cell": {
     "cellMetadata": {
      "byteLimit": 2048000,
      "rowLimit": 10000
     },
     "inputWidgets": {},
     "nuid": "7b0ae3cd-b42f-47b0-89e8-c96fac466dad",
     "showTitle": false,
     "tableResultSettingsMap": {},
     "title": ""
    }
   },
   "outputs": [
    {
     "output_type": "display_data",
     "data": {
      "text/html": [
       "<style scoped>\n",
       "  .table-result-container {\n",
       "    max-height: 300px;\n",
       "    overflow: auto;\n",
       "  }\n",
       "  table, th, td {\n",
       "    border: 1px solid black;\n",
       "    border-collapse: collapse;\n",
       "  }\n",
       "  th, td {\n",
       "    padding: 5px;\n",
       "  }\n",
       "  th {\n",
       "    text-align: left;\n",
       "  }\n",
       "</style><div class='table-result-container'><table class='table-result'><thead style='background-color: white'><tr><th>account_id</th><th>event</th><th>time_since_test_start</th><th>value</th></tr></thead><tbody><tr><td>0</td><td>0</td><td>0</td><td>0</td></tr></tbody></table></div>"
      ]
     },
     "metadata": {
      "application/vnd.databricks.v1+output": {
       "addedWidgets": {},
       "aggData": [],
       "aggError": "",
       "aggOverflow": false,
       "aggSchema": [],
       "aggSeriesLimitReached": false,
       "aggType": "",
       "arguments": {},
       "columnCustomDisplayInfos": {},
       "data": [
        [
         0,
         0,
         0,
         0
        ]
       ],
       "datasetInfos": [],
       "dbfsResultPath": null,
       "isJsonSchema": true,
       "metadata": {},
       "overflow": false,
       "plotOptions": {
        "customPlotOptions": {},
        "displayType": "table",
        "pivotAggregation": null,
        "pivotColumns": null,
        "xColumns": null,
        "yColumns": null
       },
       "removedWidgets": [],
       "schema": [
        {
         "metadata": "{}",
         "name": "account_id",
         "type": "\"long\""
        },
        {
         "metadata": "{}",
         "name": "event",
         "type": "\"long\""
        },
        {
         "metadata": "{}",
         "name": "time_since_test_start",
         "type": "\"long\""
        },
        {
         "metadata": "{}",
         "name": "value",
         "type": "\"long\""
        }
       ],
       "type": "table"
      }
     },
     "output_type": "display_data"
    }
   ],
   "source": [
    "\n",
    "valores_nulos_por_coluna_transaction = transaction.agg(\n",
    "    *[sum(col(c).isNull().cast(\"int\")).alias(c) for c in transaction.columns]\n",
    ")\n",
    "\n",
    "display(valores_nulos_por_coluna_transaction)"
   ]
  },
  {
   "cell_type": "code",
   "execution_count": 0,
   "metadata": {
    "application/vnd.databricks.v1+cell": {
     "cellMetadata": {
      "byteLimit": 2048000,
      "rowLimit": 10000
     },
     "inputWidgets": {},
     "nuid": "c04cea71-53b9-4575-a3da-156f3d3bab40",
     "showTitle": false,
     "tableResultSettingsMap": {},
     "title": ""
    }
   },
   "outputs": [
    {
     "output_type": "stream",
     "name": "stdout",
     "output_type": "stream",
     "text": [
      "root\n |-- account_id: string (nullable = true)\n |-- event: string (nullable = true)\n |-- time_since_test_start: double (nullable = true)\n |-- value: struct (nullable = true)\n |    |-- amount: double (nullable = true)\n |    |-- offer id: string (nullable = true)\n |    |-- offer_id: string (nullable = true)\n |    |-- reward: double (nullable = true)\n\n"
     ]
    }
   ],
   "source": [
    "\n",
    "transaction.printSchema()\n",
    "\n",
    "\n"
   ]
  },
  {
   "cell_type": "code",
   "execution_count": 0,
   "metadata": {
    "application/vnd.databricks.v1+cell": {
     "cellMetadata": {
      "byteLimit": 2048000,
      "rowLimit": 10000
     },
     "inputWidgets": {},
     "nuid": "1fddec88-8e73-4df6-bc90-caa8da62aed4",
     "showTitle": false,
     "tableResultSettingsMap": {},
     "title": ""
    }
   },
   "outputs": [
    {
     "output_type": "stream",
     "name": "stdout",
     "output_type": "stream",
     "text": [
      "+------+--------+--------+------+\n|amount|offer id|offer_id|reward|\n+------+--------+--------+------+\n|167581|  172532|  272955|272955|\n+------+--------+--------+------+\n\n"
     ]
    }
   ],
   "source": [
    "#campos nulos dentro do value(struct)\n",
    "nulos_value = transaction.select(\n",
    "    [sum(col(f\"value.{campo}\").isNull().cast(\"int\")).alias(campo) for campo in transaction.select(\"value.*\").columns]\n",
    ")\n",
    "\n",
    "\n",
    "nulos_value.show()"
   ]
  },
  {
   "cell_type": "code",
   "execution_count": 0,
   "metadata": {
    "application/vnd.databricks.v1+cell": {
     "cellMetadata": {
      "byteLimit": 2048000,
      "rowLimit": 10000
     },
     "inputWidgets": {},
     "nuid": "70319e73-756f-497b-91e0-3592a086fd35",
     "showTitle": false,
     "tableResultSettingsMap": {},
     "title": ""
    }
   },
   "outputs": [],
   "source": [
    "#Unificando o campo offer_id\n",
    "\n",
    "transaction_fixed = transaction.withColumn(\n",
    "    \"value\",\n",
    "    struct(\n",
    "        col(\"value.amount\").alias(\"amount\"),\n",
    "        coalesce(col(\"value.offer id\"), col(\"value.offer_id\")).alias(\"offer_id\"),\n",
    "        col(\"value.reward\").alias(\"reward\")\n",
    "    )\n",
    ")\n"
   ]
  },
  {
   "cell_type": "markdown",
   "metadata": {
    "application/vnd.databricks.v1+cell": {
     "cellMetadata": {
      "byteLimit": 2048000,
      "rowLimit": 10000
     },
     "inputWidgets": {},
     "nuid": "73574f27-5e51-4cad-80e1-f6588b12fd7d",
     "showTitle": false,
     "tableResultSettingsMap": {},
     "title": ""
    }
   },
   "source": [
    "### Join\n"
   ]
  },
  {
   "cell_type": "code",
   "execution_count": 0,
   "metadata": {
    "application/vnd.databricks.v1+cell": {
     "cellMetadata": {
      "byteLimit": 2048000,
      "rowLimit": 10000
     },
     "inputWidgets": {},
     "nuid": "54fc2ac1-49f6-4d87-a243-c56259cdae13",
     "showTitle": false,
     "tableResultSettingsMap": {},
     "title": ""
    }
   },
   "outputs": [],
   "source": [
    "df = (\n",
    "    transaction_fixed.join(offers, col(\"value.offer_id\") == col(\"offer_id\"), \"left\")\n",
    "    .drop(\"offer_id\")\n",
    "    .join(profile_filtered, col(\"account_id\") == col(\"account_id_profile\"), \"left\")\n",
    "    .drop(\"account_id_profile\")\n",
    ")\n",
    "\n",
    "\n",
    "df.createOrReplaceTempView(\"df\")"
   ]
  },
  {
   "cell_type": "markdown",
   "metadata": {
    "application/vnd.databricks.v1+cell": {
     "cellMetadata": {
      "byteLimit": 2048000,
      "rowLimit": 10000
     },
     "inputWidgets": {},
     "nuid": "748691b6-6f1a-48e8-befe-e366ae722064",
     "showTitle": false,
     "tableResultSettingsMap": {},
     "title": ""
    }
   },
   "source": [
    "# Análise"
   ]
  },
  {
   "cell_type": "code",
   "execution_count": 0,
   "metadata": {
    "application/vnd.databricks.v1+cell": {
     "cellMetadata": {
      "byteLimit": 2048000,
      "implicitDf": true,
      "rowLimit": 10000
     },
     "inputWidgets": {},
     "nuid": "a9984d3c-a861-4d05-acc9-c772a62c876d",
     "showTitle": false,
     "tableResultSettingsMap": {},
     "title": ""
    }
   },
   "outputs": [],
   "source": [
    "# agregando a tabela para análise\n",
    "\n",
    "df_model_ = spark.sql(\"\"\"\n",
    "SELECT\n",
    "  collect_list(distinct value.offer_id) AS offer_ids,\n",
    "  ROUND(COALESCE(SUM(value.amount) - SUM(value.reward), 0), 2) AS ARPU\n",
    "FROM\n",
    "  df\n",
    "GROUP BY\n",
    "  account_id\"\"\")"
   ]
  },
  {
   "cell_type": "code",
   "execution_count": 0,
   "metadata": {
    "application/vnd.databricks.v1+cell": {
     "cellMetadata": {
      "byteLimit": 2048000,
      "rowLimit": 10000
     },
     "inputWidgets": {},
     "nuid": "a6784bdf-da26-43a4-8a04-d538947568a2",
     "showTitle": false,
     "tableResultSettingsMap": {},
     "title": ""
    }
   },
   "outputs": [],
   "source": [
    "offers_descriptions = spark.sql(\"\"\"\n",
    "  SELECT\n",
    "    account_id,\n",
    "    size(collect_list(distinct value.offer_id)) AS offer_ids\n",
    "  FROM\n",
    "    df\n",
    "  GROUP BY\n",
    "    account_id\n",
    "\"\"\")"
   ]
  },
  {
   "cell_type": "code",
   "execution_count": 0,
   "metadata": {
    "application/vnd.databricks.v1+cell": {
     "cellMetadata": {
      "byteLimit": 2048000,
      "rowLimit": 10000
     },
     "inputWidgets": {},
     "nuid": "008ff89d-c404-4cbe-a69e-a947b00dc408",
     "showTitle": false,
     "tableResultSettingsMap": {},
     "title": ""
    }
   },
   "outputs": [
    {
     "output_type": "execute_result",
     "data": {
      "text/html": [
       "<div>\n",
       "<style scoped>\n",
       "    .dataframe tbody tr th:only-of-type {\n",
       "        vertical-align: middle;\n",
       "    }\n",
       "\n",
       "    .dataframe tbody tr th {\n",
       "        vertical-align: top;\n",
       "    }\n",
       "\n",
       "    .dataframe thead th {\n",
       "        text-align: right;\n",
       "    }\n",
       "</style>\n",
       "<table border=\"1\" class=\"dataframe\">\n",
       "  <thead>\n",
       "    <tr style=\"text-align: right;\">\n",
       "      <th></th>\n",
       "      <th>offer_ids</th>\n",
       "    </tr>\n",
       "  </thead>\n",
       "  <tbody>\n",
       "    <tr>\n",
       "      <th>count</th>\n",
       "      <td>17000.000000</td>\n",
       "    </tr>\n",
       "    <tr>\n",
       "      <th>mean</th>\n",
       "      <td>3.722824</td>\n",
       "    </tr>\n",
       "    <tr>\n",
       "      <th>std</th>\n",
       "      <td>0.991758</td>\n",
       "    </tr>\n",
       "    <tr>\n",
       "      <th>min</th>\n",
       "      <td>0.000000</td>\n",
       "    </tr>\n",
       "    <tr>\n",
       "      <th>25%</th>\n",
       "      <td>3.000000</td>\n",
       "    </tr>\n",
       "    <tr>\n",
       "      <th>50%</th>\n",
       "      <td>4.000000</td>\n",
       "    </tr>\n",
       "    <tr>\n",
       "      <th>75%</th>\n",
       "      <td>4.000000</td>\n",
       "    </tr>\n",
       "    <tr>\n",
       "      <th>max</th>\n",
       "      <td>6.000000</td>\n",
       "    </tr>\n",
       "  </tbody>\n",
       "</table>\n",
       "</div>"
      ],
      "text/plain": [
       "          offer_ids\n",
       "count  17000.000000\n",
       "mean       3.722824\n",
       "std        0.991758\n",
       "min        0.000000\n",
       "25%        3.000000\n",
       "50%        4.000000\n",
       "75%        4.000000\n",
       "max        6.000000"
      ]
     },
     "execution_count": 21,
     "metadata": {},
     "output_type": "execute_result"
    }
   ],
   "source": [
    "offers_descriptions.toPandas().describe()"
   ]
  },
  {
   "cell_type": "markdown",
   "metadata": {
    "application/vnd.databricks.v1+cell": {
     "cellMetadata": {
      "byteLimit": 2048000,
      "rowLimit": 10000
     },
     "inputWidgets": {},
     "nuid": "91a8e8f5-487a-48c1-ae48-4b74a1afed48",
     "showTitle": false,
     "tableResultSettingsMap": {},
     "title": ""
    }
   },
   "source": [
    "##  4 Ofertas"
   ]
  },
  {
   "cell_type": "code",
   "execution_count": 0,
   "metadata": {
    "application/vnd.databricks.v1+cell": {
     "cellMetadata": {
      "byteLimit": 2048000,
      "rowLimit": 10000
     },
     "inputWidgets": {},
     "nuid": "ff872153-af67-4302-b3eb-564c8f67cdb9",
     "showTitle": false,
     "tableResultSettingsMap": {},
     "title": ""
    }
   },
   "outputs": [],
   "source": [
    "df_model = df_model_.toPandas()\n",
    "\n",
    "# Gere todas as combinações de duas ofertas\n",
    "all_offers = df_model['offer_ids'].explode().dropna().unique()\n",
    "combinations = list(combinations(all_offers, 4))\n",
    "n_arms = len(combinations)\n",
    "\n",
    "# Inicializar as recompensas e contadores\n",
    "reward_sums = np.zeros(n_arms)  # Soma das recompensas para cada oferta\n",
    "counts = np.zeros(n_arms)  # Número de vezes que cada oferta foi escolhida\n",
    "\n",
    "# Parâmetros do Epsilon-Greedy\n",
    "epsilon = 0.1  # Probabilidade de explorar\n",
    "iterations = 10000  # Número de iterações de simulação\n",
    "\n",
    "# Mapeamento combinações para índices\n",
    "to_index = {quadra: index for index, quadra in enumerate(combinations)}\n",
    "\n"
   ]
  },
  {
   "cell_type": "code",
   "execution_count": 0,
   "metadata": {
    "application/vnd.databricks.v1+cell": {
     "cellMetadata": {
      "byteLimit": 2048000,
      "rowLimit": 10000
     },
     "inputWidgets": {},
     "nuid": "b56f7c4d-47c5-4f82-b244-2010887bf47b",
     "showTitle": false,
     "tableResultSettingsMap": {},
     "title": ""
    }
   },
   "outputs": [],
   "source": [
    "\n",
    "\n",
    "# Função para calcular a recompensa média de uma combinação de quatro ofertas\n",
    "def calcular_recompensa(chosen_quadra):\n",
    "    subset = df_model[df_model['offer_ids'].apply(lambda x: set(chosen_quadra).issubset(x))]\n",
    "    if not subset.empty:\n",
    "        return subset['ARPU'].mean()\n",
    "    return 0\n",
    "\n",
    "# Lista para armazenar recompensas obtidas a cada iteração\n",
    "rewards = []\n",
    "\n",
    "# Simular escolha usando Epsilon-Greedy para combinações de quatro ofertas\n",
    "for _ in range(iterations):\n",
    "    if random.uniform(0, 1) < epsilon:\n",
    "        chosen_quadra = random.choice(combinations)\n",
    "    else:\n",
    "        chosen_quadra = combinations[np.argmax(reward_sums / (counts + 1e-5))]\n",
    "\n",
    "    # Obtenha a recompensa\n",
    "    reward = calcular_recompensa(chosen_quadra)\n",
    "    rewards.append(reward)\n",
    "\n",
    "    # Atualizar as recompensas e contadores\n",
    "    index = to_index[chosen_quadra]\n",
    "    reward_sums[index] += reward\n",
    "    counts[index] += 1\n"
   ]
  },
  {
   "cell_type": "code",
   "execution_count": 0,
   "metadata": {
    "application/vnd.databricks.v1+cell": {
     "cellMetadata": {
      "byteLimit": 2048000,
      "rowLimit": 10000
     },
     "inputWidgets": {},
     "nuid": "d04acd10-c406-4817-a7a6-d3df190ad48d",
     "showTitle": false,
     "tableResultSettingsMap": {},
     "title": ""
    }
   },
   "outputs": [
    {
     "output_type": "stream",
     "name": "stdout",
     "output_type": "stream",
     "text": [
      "A melhor combinação de quatro ofertas é: ('5a8bc65990b245e5a138643cd4eb9837', 'ae264e3637204a6fb9bb56bc8210ddfd', 'fafdcd668e3743c1bb461111dcafc2a4', '9b98b8c7a33c4b65b9aebfe6a799e6d9')\nRecompensa média esperada: 132.32\n"
     ]
    }
   ],
   "source": [
    "# Resultados finais\n",
    "average_rewards = reward_sums / (counts + 1e-5)\n",
    "best_quadra_index = np.argmax(average_rewards)\n",
    "best_quadra = combinations[best_quadra_index]\n",
    "\n",
    "print(f'A melhor combinação de quatro ofertas é: {best_quadra}')\n",
    "print(f'Recompensa média esperada: {average_rewards[best_quadra_index]:.2f}')"
   ]
  },
  {
   "cell_type": "code",
   "execution_count": 0,
   "metadata": {
    "application/vnd.databricks.v1+cell": {
     "cellMetadata": {
      "byteLimit": 2048000,
      "rowLimit": 10000
     },
     "inputWidgets": {},
     "nuid": "855da002-b776-4665-895a-a0485db0ef53",
     "showTitle": false,
     "tableResultSettingsMap": {},
     "title": ""
    }
   },
   "outputs": [
    {
     "output_type": "display_data",
     "data": {
      "image/png": "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\n",
      "text/plain": [
       "<Figure size 1200x600 with 1 Axes>"
      ]
     },
     "metadata": {},
     "output_type": "display_data"
    }
   ],
   "source": [
    "import matplotlib.pyplot as plt\n",
    "\n",
    "# Calcular recompensas cumulativas\n",
    "cumulative_rewards = np.cumsum(rewards)\n",
    "\n",
    "# Plotar a recompensa cumulativa ao longo das iterações\n",
    "plt.figure(figsize=(12, 6))\n",
    "plt.plot(cumulative_rewards, label='Recompensa Cumulativa')\n",
    "plt.xlabel('Número de Iterações')\n",
    "plt.ylabel('Recompensa Cumulativa')\n",
    "plt.title('Recompensa Cumulativa para Combinações de Quatro Ofertas')\n",
    "plt.legend()\n",
    "plt.grid(True)\n",
    "plt.show()"
   ]
  },
  {
   "cell_type": "code",
   "execution_count": 0,
   "metadata": {
    "application/vnd.databricks.v1+cell": {
     "cellMetadata": {
      "byteLimit": 2048000,
      "rowLimit": 10000
     },
     "inputWidgets": {},
     "nuid": "bc8f6413-1069-4bbb-aedc-35f1f14d05a5",
     "showTitle": false,
     "tableResultSettingsMap": {},
     "title": ""
    }
   },
   "outputs": [
    {
     "output_type": "stream",
     "name": "stdout",
     "output_type": "stream",
     "text": [
      "+--------------------+--------------+--------+--------------------+---------+-------------+\n|            channels|discount_value|duration|            offer_id|min_value|   offer_type|\n+--------------------+--------------+--------+--------------------+---------+-------------+\n|[email, mobile, s...|            10|     7.0|ae264e3637204a6fb...|       10|         bogo|\n|[web, email, mobile]|             5|     7.0|9b98b8c7a33c4b65b...|        5|         bogo|\n|[web, email, mobi...|             2|    10.0|fafdcd668e3743c1b...|       10|     discount|\n|[email, mobile, s...|             0|     3.0|5a8bc65990b245e5a...|        0|informational|\n+--------------------+--------------+--------+--------------------+---------+-------------+\n\n"
     ]
    }
   ],
   "source": [
    "best_list = list(best_quadra)\n",
    "offers.filter(offers[\"offer_id\"].isin(best_list)).show()"
   ]
  },
  {
   "cell_type": "markdown",
   "metadata": {
    "application/vnd.databricks.v1+cell": {
     "cellMetadata": {
      "byteLimit": 2048000,
      "rowLimit": 10000
     },
     "inputWidgets": {},
     "nuid": "edcc7a5e-45c5-43f4-9081-2031afb0ab83",
     "showTitle": false,
     "tableResultSettingsMap": {},
     "title": ""
    }
   },
   "source": [
    "##  6 Ofertas"
   ]
  },
  {
   "cell_type": "code",
   "execution_count": 0,
   "metadata": {
    "application/vnd.databricks.v1+cell": {
     "cellMetadata": {
      "byteLimit": 2048000,
      "rowLimit": 10000
     },
     "inputWidgets": {},
     "nuid": "a9ee8bcd-19e5-4016-87bc-86444eeeed41",
     "showTitle": false,
     "tableResultSettingsMap": {},
     "title": ""
    }
   },
   "outputs": [],
   "source": [
    "from itertools import combinations\n",
    "df_model = df_model_.toPandas()\n",
    "\n",
    "# Gere todas as combinações de duas ofertas\n",
    "all_offers = df_model['offer_ids'].explode().dropna().unique()\n",
    "combinations = list(combinations(all_offers, 6))\n",
    "n_arms = len(combinations)\n",
    "\n",
    "# Inicializar as recompensas e contadores\n",
    "reward_sums = np.zeros(n_arms)  # Soma das recompensas para cada oferta\n",
    "counts = np.zeros(n_arms)  # Número de vezes que cada oferta foi escolhida\n",
    "\n",
    "# Parâmetros do Epsilon-Greedy\n",
    "epsilon = 0.1  # Probabilidade de explorar\n",
    "iterations = 10000  # Número de iterações de simulação\n",
    "\n",
    "# Mapeamento combinações para índices\n",
    "to_index = {quadra: index for index, quadra in enumerate(combinations)}"
   ]
  },
  {
   "cell_type": "code",
   "execution_count": 0,
   "metadata": {
    "application/vnd.databricks.v1+cell": {
     "cellMetadata": {
      "byteLimit": 2048000,
      "rowLimit": 10000
     },
     "inputWidgets": {},
     "nuid": "e55ddd14-5524-4fca-a3d9-ffa68fabde82",
     "showTitle": false,
     "tableResultSettingsMap": {},
     "title": ""
    }
   },
   "outputs": [],
   "source": [
    "\n",
    "# Função para calcular a recompensa média de uma combinação de quatro ofertas\n",
    "def calcular_recompensa(chosen_quadra):\n",
    "    subset = df_model[df_model['offer_ids'].apply(lambda x: set(chosen_quadra).issubset(x))]\n",
    "    if not subset.empty:\n",
    "        return subset['ARPU'].mean()\n",
    "    return 0\n",
    "\n",
    "# Lista para armazenar recompensas obtidas a cada iteração\n",
    "rewards = []\n",
    "\n",
    "# Simular escolha usando Epsilon-Greedy para combinações de quatro ofertas\n",
    "for _ in range(iterations):\n",
    "    if random.uniform(0, 1) < epsilon:\n",
    "        chosen_quadra = random.choice(combinations)\n",
    "    else:\n",
    "        chosen_quadra = combinations[np.argmax(reward_sums / (counts + 1e-5))]\n",
    "\n",
    "    # Obtenha a recompensa\n",
    "    reward = calcular_recompensa(chosen_quadra)\n",
    "    rewards.append(reward)\n",
    "\n",
    "    # Atualizar as recompensas e contadores\n",
    "    index = to_index[chosen_quadra]\n",
    "    reward_sums[index] += reward\n",
    "    counts[index] += 1"
   ]
  },
  {
   "cell_type": "code",
   "execution_count": 0,
   "metadata": {
    "application/vnd.databricks.v1+cell": {
     "cellMetadata": {
      "byteLimit": 2048000,
      "rowLimit": 10000
     },
     "inputWidgets": {},
     "nuid": "3abb8e27-2224-4b27-ad5f-e5f30c3bfee4",
     "showTitle": false,
     "tableResultSettingsMap": {},
     "title": ""
    }
   },
   "outputs": [
    {
     "output_type": "stream",
     "name": "stdout",
     "output_type": "stream",
     "text": [
      "A melhor combinação de seis ofertas é: ('ae264e3637204a6fb9bb56bc8210ddfd', '2298d6c36e964ae4a3e7e9706d1fb8c2', 'f19421c1d4aa40978ebb69ca19b0e20d', '0b1e1539f2cc45b7b9fa7c272da2e1d7', '2906b810c7d4411798c6938adc9daaa5', '3f207df678b143eea3cee63160fa8bed')\nRecompensa média esperada: 670.06\n"
     ]
    }
   ],
   "source": [
    "# Resultados finais\n",
    "average_rewards = reward_sums / (counts + 1e-5)\n",
    "best_quadra_index = np.argmax(average_rewards)\n",
    "best_quadra = combinations[best_quadra_index]\n",
    "\n",
    "print(f'A melhor combinação de seis ofertas é: {best_quadra}')\n",
    "print(f'Recompensa média esperada: {average_rewards[best_quadra_index]:.2f}')"
   ]
  },
  {
   "cell_type": "code",
   "execution_count": 0,
   "metadata": {
    "application/vnd.databricks.v1+cell": {
     "cellMetadata": {
      "byteLimit": 2048000,
      "rowLimit": 10000
     },
     "inputWidgets": {},
     "nuid": "a59e1157-0476-454e-b005-2dcec6142910",
     "showTitle": false,
     "tableResultSettingsMap": {},
     "title": ""
    }
   },
   "outputs": [
    {
     "output_type": "display_data",
     "data": {
      "image/png": "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\n",
      "text/plain": [
       "<Figure size 1200x600 with 1 Axes>"
      ]
     },
     "metadata": {},
     "output_type": "display_data"
    }
   ],
   "source": [
    "import matplotlib.pyplot as plt\n",
    "\n",
    "# Calcular recompensas cumulativas\n",
    "cumulative_rewards = np.cumsum(rewards)\n",
    "\n",
    "# Plotar a recompensa cumulativa ao longo das iterações\n",
    "plt.figure(figsize=(12, 6))\n",
    "plt.plot(cumulative_rewards, label='Recompensa Cumulativa')\n",
    "plt.xlabel('Número de Iterações')\n",
    "plt.ylabel('Recompensa Cumulativa')\n",
    "plt.title('Recompensa Cumulativa para Combinações de Seis Ofertas')\n",
    "plt.legend()\n",
    "plt.grid(True)\n",
    "plt.show()"
   ]
  },
  {
   "cell_type": "code",
   "execution_count": 0,
   "metadata": {
    "application/vnd.databricks.v1+cell": {
     "cellMetadata": {
      "byteLimit": 2048000,
      "rowLimit": 10000
     },
     "inputWidgets": {},
     "nuid": "aaf7fc14-a49e-4d83-b4d9-166c56a796a9",
     "showTitle": false,
     "tableResultSettingsMap": {},
     "title": ""
    }
   },
   "outputs": [
    {
     "output_type": "stream",
     "name": "stdout",
     "output_type": "stream",
     "text": [
      "+--------------------+--------------+--------+--------------------+---------+-------------+\n|            channels|discount_value|duration|            offer_id|min_value|   offer_type|\n+--------------------+--------------+--------+--------------------+---------+-------------+\n|[email, mobile, s...|            10|     7.0|ae264e3637204a6fb...|       10|         bogo|\n|[web, email, mobile]|             0|     4.0|3f207df678b143eea...|        0|informational|\n|        [web, email]|             5|    10.0|0b1e1539f2cc45b7b...|       20|     discount|\n|[web, email, mobi...|             3|     7.0|2298d6c36e964ae4a...|        7|     discount|\n|[web, email, mobi...|             5|     5.0|f19421c1d4aa40978...|        5|         bogo|\n|[web, email, mobile]|             2|     7.0|2906b810c7d441179...|       10|     discount|\n+--------------------+--------------+--------+--------------------+---------+-------------+\n\n"
     ]
    }
   ],
   "source": [
    "best_list = list(best_quadra)\n",
    "offers.filter(offers[\"offer_id\"].isin(best_list)).show()"
   ]
  }
 ],
 "metadata": {
  "application/vnd.databricks.v1+notebook": {
   "dashboards": [],
   "environmentMetadata": {
    "base_environment": "",
    "client": "1"
   },
   "language": "python",
   "notebookMetadata": {
    "mostRecentlyExecutedCommandWithImplicitDF": {
     "commandId": -1,
     "dataframes": [
      "_sqldf"
     ]
    },
    "pythonIndentUnit": 2
   },
   "notebookName": "Case Data Analyst Final",
   "widgets": {}
  },
  "language_info": {
   "name": "python"
  }
 },
 "nbformat": 4,
 "nbformat_minor": 0
}
